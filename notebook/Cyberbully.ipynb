{
 "cells": [
  {
   "cell_type": "code",
   "execution_count": 1,
   "metadata": {},
   "outputs": [
    {
     "name": "stderr",
     "output_type": "stream",
     "text": [
      "[nltk_data] Error loading punkt: <urlopen error [SSL:\n",
      "[nltk_data]     CERTIFICATE_VERIFY_FAILED] certificate verify failed:\n",
      "[nltk_data]     unable to get local issuer certificate (_ssl.c:992)>\n",
      "[nltk_data] Error loading wordnet: <urlopen error [SSL:\n",
      "[nltk_data]     CERTIFICATE_VERIFY_FAILED] certificate verify failed:\n",
      "[nltk_data]     unable to get local issuer certificate (_ssl.c:992)>\n",
      "[nltk_data] Error loading omw-1.4: <urlopen error [SSL:\n",
      "[nltk_data]     CERTIFICATE_VERIFY_FAILED] certificate verify failed:\n",
      "[nltk_data]     unable to get local issuer certificate (_ssl.c:992)>\n"
     ]
    },
    {
     "data": {
      "text/plain": [
       "False"
      ]
     },
     "execution_count": 1,
     "metadata": {},
     "output_type": "execute_result"
    }
   ],
   "source": [
    "import pandas as pd\n",
    "import numpy as np\n",
    "from sklearn.model_selection import train_test_split,RandomizedSearchCV\n",
    "from sklearn.preprocessing import LabelEncoder\n",
    "from sklearn.linear_model import LogisticRegression\n",
    "from sklearn.ensemble import RandomForestClassifier\n",
    "from sklearn.feature_extraction.text import TfidfVectorizer\n",
    "from sklearn.metrics import accuracy_score, classification_report\n",
    "import re\n",
    "import os\n",
    "import emoji\n",
    "from nltk.tokenize import word_tokenize\n",
    "from nltk.corpus import stopwords\n",
    "import joblib\n",
    "\n",
    "import nltk\n",
    "\n",
    "nltk.data.path.append('/Users/akashmukherjee/nltk_data')\n",
    "nltk.download('punkt')\n",
    "nltk.download('wordnet')\n",
    "nltk.download('omw-1.4')"
   ]
  },
  {
   "cell_type": "code",
   "execution_count": 2,
   "metadata": {},
   "outputs": [
    {
     "data": {
      "text/html": [
       "<div>\n",
       "<style scoped>\n",
       "    .dataframe tbody tr th:only-of-type {\n",
       "        vertical-align: middle;\n",
       "    }\n",
       "\n",
       "    .dataframe tbody tr th {\n",
       "        vertical-align: top;\n",
       "    }\n",
       "\n",
       "    .dataframe thead th {\n",
       "        text-align: right;\n",
       "    }\n",
       "</style>\n",
       "<table border=\"1\" class=\"dataframe\">\n",
       "  <thead>\n",
       "    <tr style=\"text-align: right;\">\n",
       "      <th></th>\n",
       "      <th>comment</th>\n",
       "      <th>label</th>\n",
       "      <th>Race</th>\n",
       "      <th>Religion</th>\n",
       "      <th>Gender</th>\n",
       "      <th>Sexual Orientation</th>\n",
       "      <th>Miscellaneous</th>\n",
       "    </tr>\n",
       "  </thead>\n",
       "  <tbody>\n",
       "    <tr>\n",
       "      <th>0</th>\n",
       "      <td>0 u0 lmao wow fuck you too 😂 😂</td>\n",
       "      <td>normal</td>\n",
       "      <td>No_race</td>\n",
       "      <td>Nonreligious</td>\n",
       "      <td>No_gender</td>\n",
       "      <td>No_orientation</td>\n",
       "      <td>NaN</td>\n",
       "    </tr>\n",
       "    <tr>\n",
       "      <th>1</th>\n",
       "      <td>1 0 th floor maybe wow cnn with the fakenews t...</td>\n",
       "      <td>offensive</td>\n",
       "      <td>No_race</td>\n",
       "      <td>Nonreligious</td>\n",
       "      <td>No_gender</td>\n",
       "      <td>No_orientation</td>\n",
       "      <td>Other</td>\n",
       "    </tr>\n",
       "    <tr>\n",
       "      <th>2</th>\n",
       "      <td>1 0 yrs &lt;number&gt; white women raped by niggers ...</td>\n",
       "      <td>hatespeech</td>\n",
       "      <td>African</td>\n",
       "      <td>Nonreligious</td>\n",
       "      <td>No_gender</td>\n",
       "      <td>No_orientation</td>\n",
       "      <td>NaN</td>\n",
       "    </tr>\n",
       "    <tr>\n",
       "      <th>3</th>\n",
       "      <td>1 2 h ago ching chong accepted your friend req...</td>\n",
       "      <td>offensive</td>\n",
       "      <td>Asian</td>\n",
       "      <td>Nonreligious</td>\n",
       "      <td>No_gender</td>\n",
       "      <td>No_orientation</td>\n",
       "      <td>NaN</td>\n",
       "    </tr>\n",
       "    <tr>\n",
       "      <th>4</th>\n",
       "      <td>1 8 th century mayhem and lawlessness had noth...</td>\n",
       "      <td>normal</td>\n",
       "      <td>No_race</td>\n",
       "      <td>Nonreligious</td>\n",
       "      <td>No_gender</td>\n",
       "      <td>No_orientation</td>\n",
       "      <td>NaN</td>\n",
       "    </tr>\n",
       "    <tr>\n",
       "      <th>...</th>\n",
       "      <td>...</td>\n",
       "      <td>...</td>\n",
       "      <td>...</td>\n",
       "      <td>...</td>\n",
       "      <td>...</td>\n",
       "      <td>...</td>\n",
       "      <td>...</td>\n",
       "    </tr>\n",
       "    <tr>\n",
       "      <th>20104</th>\n",
       "      <td>😂 😂 😂 😂 😂 y ’ all be so mad at caucasians fail...</td>\n",
       "      <td>offensive</td>\n",
       "      <td>African</td>\n",
       "      <td>Nonreligious</td>\n",
       "      <td>No_gender</td>\n",
       "      <td>No_orientation</td>\n",
       "      <td>NaN</td>\n",
       "    </tr>\n",
       "    <tr>\n",
       "      <th>20105</th>\n",
       "      <td>🤔 🤔 🤔 🤔 mmm yes the trebuchet memes are much n...</td>\n",
       "      <td>hatespeech</td>\n",
       "      <td>Arab</td>\n",
       "      <td>Islam</td>\n",
       "      <td>No_gender</td>\n",
       "      <td>No_orientation</td>\n",
       "      <td>NaN</td>\n",
       "    </tr>\n",
       "    <tr>\n",
       "      <th>20106</th>\n",
       "      <td>🤣 this so ghetto i ’ m ready to get tf</td>\n",
       "      <td>offensive</td>\n",
       "      <td>No_race</td>\n",
       "      <td>Nonreligious</td>\n",
       "      <td>No_gender</td>\n",
       "      <td>No_orientation</td>\n",
       "      <td>Other</td>\n",
       "    </tr>\n",
       "    <tr>\n",
       "      <th>20107</th>\n",
       "      <td>🤣 🤣 😂 😂 🤣 🤣 😂 😂 🤣 🤣 you spelled my name wrong ...</td>\n",
       "      <td>hatespeech</td>\n",
       "      <td>Arab</td>\n",
       "      <td>Nonreligious</td>\n",
       "      <td>No_gender</td>\n",
       "      <td>No_orientation</td>\n",
       "      <td>NaN</td>\n",
       "    </tr>\n",
       "    <tr>\n",
       "      <th>20108</th>\n",
       "      <td>🤨 hm six million but yep they were disarmed ce...</td>\n",
       "      <td>hatespeech</td>\n",
       "      <td>No_race</td>\n",
       "      <td>Jewish</td>\n",
       "      <td>No_gender</td>\n",
       "      <td>No_orientation</td>\n",
       "      <td>NaN</td>\n",
       "    </tr>\n",
       "  </tbody>\n",
       "</table>\n",
       "<p>20109 rows × 7 columns</p>\n",
       "</div>"
      ],
      "text/plain": [
       "                                                 comment       label     Race  \\\n",
       "0                         0 u0 lmao wow fuck you too 😂 😂      normal  No_race   \n",
       "1      1 0 th floor maybe wow cnn with the fakenews t...   offensive  No_race   \n",
       "2      1 0 yrs <number> white women raped by niggers ...  hatespeech  African   \n",
       "3      1 2 h ago ching chong accepted your friend req...   offensive    Asian   \n",
       "4      1 8 th century mayhem and lawlessness had noth...      normal  No_race   \n",
       "...                                                  ...         ...      ...   \n",
       "20104  😂 😂 😂 😂 😂 y ’ all be so mad at caucasians fail...   offensive  African   \n",
       "20105  🤔 🤔 🤔 🤔 mmm yes the trebuchet memes are much n...  hatespeech     Arab   \n",
       "20106             🤣 this so ghetto i ’ m ready to get tf   offensive  No_race   \n",
       "20107  🤣 🤣 😂 😂 🤣 🤣 😂 😂 🤣 🤣 you spelled my name wrong ...  hatespeech     Arab   \n",
       "20108  🤨 hm six million but yep they were disarmed ce...  hatespeech  No_race   \n",
       "\n",
       "           Religion     Gender Sexual Orientation Miscellaneous  \n",
       "0      Nonreligious  No_gender     No_orientation           NaN  \n",
       "1      Nonreligious  No_gender     No_orientation         Other  \n",
       "2      Nonreligious  No_gender     No_orientation           NaN  \n",
       "3      Nonreligious  No_gender     No_orientation           NaN  \n",
       "4      Nonreligious  No_gender     No_orientation           NaN  \n",
       "...             ...        ...                ...           ...  \n",
       "20104  Nonreligious  No_gender     No_orientation           NaN  \n",
       "20105         Islam  No_gender     No_orientation           NaN  \n",
       "20106  Nonreligious  No_gender     No_orientation         Other  \n",
       "20107  Nonreligious  No_gender     No_orientation           NaN  \n",
       "20108        Jewish  No_gender     No_orientation           NaN  \n",
       "\n",
       "[20109 rows x 7 columns]"
      ]
     },
     "execution_count": 2,
     "metadata": {},
     "output_type": "execute_result"
    }
   ],
   "source": [
    "df=pd.read_csv('../data/final_hateXplain.csv')\n",
    "df"
   ]
  },
  {
   "cell_type": "code",
   "execution_count": null,
   "metadata": {},
   "outputs": [],
   "source": [
    "df.info()"
   ]
  },
  {
   "cell_type": "code",
   "execution_count": null,
   "metadata": {},
   "outputs": [],
   "source": [
    "df['Miscellaneous'].fillna('None', inplace=True)\n",
    "df"
   ]
  },
  {
   "cell_type": "code",
   "execution_count": null,
   "metadata": {},
   "outputs": [],
   "source": [
    "df['Features']=df['Race']+' '+df['Religion']+' '+df['Gender']+' '+df['Sexual Orientation']+' '+df['Miscellaneous']\n",
    "df['text']=df['comment']+' '+df['Features']\n",
    "df"
   ]
  },
  {
   "cell_type": "code",
   "execution_count": null,
   "metadata": {},
   "outputs": [],
   "source": [
    "def preprocess(text):\n",
    "    # Tokenize the text\n",
    "    tokens = word_tokenize(text)\n",
    "    \n",
    "    # Convert to lowercase\n",
    "    tokens = [token.lower() for token in tokens]\n",
    "    \n",
    "    # Remove punctuation\n",
    "    tokens = [re.sub(r'[^\\w\\s]', '', token) for token in tokens]\n",
    "    \n",
    "    # Remove hashtags and mentions\n",
    "    tokens = [re.sub(r'#\\S+', '', token) for token in tokens]\n",
    "    tokens = [re.sub(r'@\\S+', '', token) for token in tokens]\n",
    "    \n",
    "    # Remove emojis\n",
    "    tokens = [token for token in tokens if not emoji.is_emoji(token)]\n",
    "    \n",
    "    # Remove stopwords\n",
    "    stop_words = set(stopwords.words('english'))\n",
    "    tokens = [token for token in tokens if token not in stop_words]\n",
    "    \n",
    "    # Join tokens back into a single string\n",
    "    text = ' '.join(tokens)\n",
    "    \n",
    "    return text"
   ]
  },
  {
   "cell_type": "code",
   "execution_count": null,
   "metadata": {},
   "outputs": [],
   "source": [
    "df['text']=df['text'].apply(preprocess)"
   ]
  },
  {
   "cell_type": "code",
   "execution_count": null,
   "metadata": {},
   "outputs": [],
   "source": [
    "X = df['text']\n",
    "y = df['label']\n",
    "\n",
    "X_train, X_val, y_train, y_val = train_test_split(X, y, test_size=0.2, random_state=42)"
   ]
  },
  {
   "cell_type": "code",
   "execution_count": null,
   "metadata": {},
   "outputs": [],
   "source": [
    "X_train"
   ]
  },
  {
   "cell_type": "code",
   "execution_count": null,
   "metadata": {},
   "outputs": [],
   "source": [
    "tfidf=TfidfVectorizer()\n",
    "X_train_tfidf=tfidf.fit_transform(X_train)\n",
    "X_val_tfidf=tfidf.transform(X_val)"
   ]
  },
  {
   "cell_type": "code",
   "execution_count": null,
   "metadata": {},
   "outputs": [],
   "source": [
    "label_encoder = LabelEncoder()\n",
    "y_train_encoded = label_encoder.fit_transform(y_train)\n",
    "y_val_encoded = label_encoder.transform(y_val)"
   ]
  },
  {
   "cell_type": "code",
   "execution_count": null,
   "metadata": {},
   "outputs": [],
   "source": [
    "model=LogisticRegression(max_iter=1000)\n",
    "model.fit(X_train_tfidf,y_train_encoded)"
   ]
  },
  {
   "cell_type": "code",
   "execution_count": null,
   "metadata": {},
   "outputs": [],
   "source": [
    "predictions=model.predict(X_val_tfidf)\n",
    "accuracy_score(y_true=y_val_encoded,y_pred=predictions)"
   ]
  },
  {
   "cell_type": "code",
   "execution_count": null,
   "metadata": {},
   "outputs": [],
   "source": [
    "model=RandomForestClassifier(n_estimators=400)\n",
    "model.fit(X_train_tfidf,y_train_encoded)"
   ]
  },
  {
   "cell_type": "code",
   "execution_count": null,
   "metadata": {},
   "outputs": [],
   "source": [
    "predictions=model.predict(X_val_tfidf)\n",
    "accuracy_score(y_true=y_val_encoded,y_pred=predictions)"
   ]
  },
  {
   "cell_type": "code",
   "execution_count": null,
   "metadata": {},
   "outputs": [],
   "source": [
    "param_grid = {\n",
    "    'n_estimators': [100, 200, 300],\n",
    "    'max_depth': [10, 20, 30, None],\n",
    "    'min_samples_split': [2, 5, 10],\n",
    "    'min_samples_leaf': [1, 2, 4],\n",
    "    'max_features': ['auto', 'sqrt', 'log2'],\n",
    "    'bootstrap': [True, False]\n",
    "}"
   ]
  },
  {
   "cell_type": "code",
   "execution_count": null,
   "metadata": {},
   "outputs": [],
   "source": [
    "# Set up GridSearchCV\n",
    "rs_cv = RandomizedSearchCV(estimator=model, param_distributions=param_grid, \n",
    "                           cv=5, n_jobs=-1,  scoring='accuracy')"
   ]
  },
  {
   "cell_type": "code",
   "execution_count": null,
   "metadata": {},
   "outputs": [],
   "source": [
    "rs_cv.fit(X_train_tfidf,y_train_encoded)"
   ]
  },
  {
   "cell_type": "code",
   "execution_count": null,
   "metadata": {},
   "outputs": [],
   "source": [
    "best_params=rs_cv.best_params_\n",
    "rs_cv.best_score_"
   ]
  },
  {
   "cell_type": "code",
   "execution_count": null,
   "metadata": {},
   "outputs": [],
   "source": [
    "best_params"
   ]
  },
  {
   "cell_type": "code",
   "execution_count": null,
   "metadata": {},
   "outputs": [],
   "source": [
    "os.makedirs('../models',exist_ok=True)"
   ]
  },
  {
   "cell_type": "code",
   "execution_count": null,
   "metadata": {},
   "outputs": [],
   "source": [
    "joblib.dump(model,'../models/model.joblib')"
   ]
  },
  {
   "cell_type": "code",
   "execution_count": null,
   "metadata": {},
   "outputs": [],
   "source": [
    "joblib.dump(label_encoder,'../models/encoder.joblib')"
   ]
  },
  {
   "cell_type": "code",
   "execution_count": null,
   "metadata": {},
   "outputs": [],
   "source": []
  }
 ],
 "metadata": {
  "kernelspec": {
   "display_name": "my_env",
   "language": "python",
   "name": "python3"
  },
  "language_info": {
   "codemirror_mode": {
    "name": "ipython",
    "version": 3
   },
   "file_extension": ".py",
   "mimetype": "text/x-python",
   "name": "python",
   "nbconvert_exporter": "python",
   "pygments_lexer": "ipython3",
   "version": "3.11.0"
  }
 },
 "nbformat": 4,
 "nbformat_minor": 2
}
